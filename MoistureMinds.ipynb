{
 "cells": [
  {
   "cell_type": "code",
   "execution_count": 68,
   "id": "c54a2aa7",
   "metadata": {},
   "outputs": [],
   "source": [
    "import pandas as pd\n",
    "import seaborn as sns\n",
    "from scipy import stats\n",
    "from sklearn.preprocessing import PolynomialFeatures\n",
    "from sklearn.metrics import r2_score\n",
    "import numpy as np\n",
    "import matplotlib.pyplot as plt\n",
    "from sklearn.linear_model import LinearRegression\n",
    "from sklearn.model_selection import train_test_split\n",
    "from sklearn.preprocessing import PolynomialFeatures\n",
    "from sklearn.metrics import r2_score\n"
   ]
  },
  {
   "cell_type": "markdown",
   "id": "561690f2",
   "metadata": {},
   "source": [
    "## Loading Datasets "
   ]
  },
  {
   "cell_type": "code",
   "execution_count": 2,
   "id": "63867bb3",
   "metadata": {},
   "outputs": [],
   "source": [
    "df1 = pd.read_csv('https://raw.githubusercontent.com/chidaksh/CosmosocClub/master/Parsec2023/user1_data.csv')\n",
    "df2 = pd.read_csv('https://raw.githubusercontent.com/chidaksh/CosmosocClub/master/Parsec2023/user2_data.csv')"
   ]
  },
  {
   "cell_type": "code",
   "execution_count": 3,
   "id": "7d2e08b5",
   "metadata": {},
   "outputs": [
    {
     "data": {
      "text/html": [
       "<div>\n",
       "<style scoped>\n",
       "    .dataframe tbody tr th:only-of-type {\n",
       "        vertical-align: middle;\n",
       "    }\n",
       "\n",
       "    .dataframe tbody tr th {\n",
       "        vertical-align: top;\n",
       "    }\n",
       "\n",
       "    .dataframe thead th {\n",
       "        text-align: right;\n",
       "    }\n",
       "</style>\n",
       "<table border=\"1\" class=\"dataframe\">\n",
       "  <thead>\n",
       "    <tr style=\"text-align: right;\">\n",
       "      <th></th>\n",
       "      <th>ttime</th>\n",
       "      <th>pm1</th>\n",
       "      <th>pm2</th>\n",
       "      <th>pm3</th>\n",
       "      <th>am</th>\n",
       "      <th>sm</th>\n",
       "      <th>st</th>\n",
       "      <th>lum</th>\n",
       "    </tr>\n",
       "  </thead>\n",
       "  <tbody>\n",
       "    <tr>\n",
       "      <th>0</th>\n",
       "      <td>2022-07-18 15:42:55</td>\n",
       "      <td>3.63</td>\n",
       "      <td>0.0</td>\n",
       "      <td>0.0</td>\n",
       "      <td>3.2</td>\n",
       "      <td>7813.0</td>\n",
       "      <td>25.65</td>\n",
       "      <td>15001.0</td>\n",
       "    </tr>\n",
       "    <tr>\n",
       "      <th>1</th>\n",
       "      <td>2022-07-18 15:47:55</td>\n",
       "      <td>4.19</td>\n",
       "      <td>0.0</td>\n",
       "      <td>0.0</td>\n",
       "      <td>4.8</td>\n",
       "      <td>7692.0</td>\n",
       "      <td>25.66</td>\n",
       "      <td>13863.0</td>\n",
       "    </tr>\n",
       "    <tr>\n",
       "      <th>2</th>\n",
       "      <td>2022-07-18 15:52:55</td>\n",
       "      <td>4.74</td>\n",
       "      <td>0.0</td>\n",
       "      <td>0.0</td>\n",
       "      <td>4.0</td>\n",
       "      <td>7813.0</td>\n",
       "      <td>25.67</td>\n",
       "      <td>13788.0</td>\n",
       "    </tr>\n",
       "    <tr>\n",
       "      <th>3</th>\n",
       "      <td>2022-07-18 15:57:55</td>\n",
       "      <td>5.30</td>\n",
       "      <td>0.0</td>\n",
       "      <td>0.0</td>\n",
       "      <td>4.8</td>\n",
       "      <td>7813.0</td>\n",
       "      <td>25.68</td>\n",
       "      <td>14383.0</td>\n",
       "    </tr>\n",
       "    <tr>\n",
       "      <th>4</th>\n",
       "      <td>2022-07-18 16:02:55</td>\n",
       "      <td>0.55</td>\n",
       "      <td>5.3</td>\n",
       "      <td>5.3</td>\n",
       "      <td>3.2</td>\n",
       "      <td>7813.0</td>\n",
       "      <td>25.69</td>\n",
       "      <td>14621.0</td>\n",
       "    </tr>\n",
       "  </tbody>\n",
       "</table>\n",
       "</div>"
      ],
      "text/plain": [
       "                 ttime   pm1  pm2  pm3   am      sm     st      lum\n",
       "0  2022-07-18 15:42:55  3.63  0.0  0.0  3.2  7813.0  25.65  15001.0\n",
       "1  2022-07-18 15:47:55  4.19  0.0  0.0  4.8  7692.0  25.66  13863.0\n",
       "2  2022-07-18 15:52:55  4.74  0.0  0.0  4.0  7813.0  25.67  13788.0\n",
       "3  2022-07-18 15:57:55  5.30  0.0  0.0  4.8  7813.0  25.68  14383.0\n",
       "4  2022-07-18 16:02:55  0.55  5.3  5.3  3.2  7813.0  25.69  14621.0"
      ]
     },
     "execution_count": 3,
     "metadata": {},
     "output_type": "execute_result"
    }
   ],
   "source": [
    "df1.head()"
   ]
  },
  {
   "cell_type": "code",
   "execution_count": 4,
   "id": "c63ee25e",
   "metadata": {},
   "outputs": [
    {
     "data": {
      "text/html": [
       "<div>\n",
       "<style scoped>\n",
       "    .dataframe tbody tr th:only-of-type {\n",
       "        vertical-align: middle;\n",
       "    }\n",
       "\n",
       "    .dataframe tbody tr th {\n",
       "        vertical-align: top;\n",
       "    }\n",
       "\n",
       "    .dataframe thead th {\n",
       "        text-align: right;\n",
       "    }\n",
       "</style>\n",
       "<table border=\"1\" class=\"dataframe\">\n",
       "  <thead>\n",
       "    <tr style=\"text-align: right;\">\n",
       "      <th></th>\n",
       "      <th>ttime</th>\n",
       "      <th>pm1</th>\n",
       "      <th>pm2</th>\n",
       "      <th>pm3</th>\n",
       "      <th>am</th>\n",
       "      <th>sm</th>\n",
       "      <th>lum</th>\n",
       "      <th>temp</th>\n",
       "      <th>humd</th>\n",
       "      <th>pres</th>\n",
       "    </tr>\n",
       "  </thead>\n",
       "  <tbody>\n",
       "    <tr>\n",
       "      <th>0</th>\n",
       "      <td>2022-07-18 15:39:58</td>\n",
       "      <td>0.83</td>\n",
       "      <td>0.00</td>\n",
       "      <td>0.00</td>\n",
       "      <td>0.0</td>\n",
       "      <td>7463.0</td>\n",
       "      <td>6547.0</td>\n",
       "      <td>23.02</td>\n",
       "      <td>90.57</td>\n",
       "      <td>92849.25</td>\n",
       "    </tr>\n",
       "    <tr>\n",
       "      <th>1</th>\n",
       "      <td>2022-07-18 15:44:55</td>\n",
       "      <td>1.39</td>\n",
       "      <td>0.00</td>\n",
       "      <td>0.00</td>\n",
       "      <td>0.0</td>\n",
       "      <td>7576.0</td>\n",
       "      <td>10249.0</td>\n",
       "      <td>23.47</td>\n",
       "      <td>88.37</td>\n",
       "      <td>92848.31</td>\n",
       "    </tr>\n",
       "    <tr>\n",
       "      <th>2</th>\n",
       "      <td>2022-07-18 15:49:55</td>\n",
       "      <td>1.95</td>\n",
       "      <td>0.00</td>\n",
       "      <td>0.00</td>\n",
       "      <td>0.0</td>\n",
       "      <td>7576.0</td>\n",
       "      <td>12636.0</td>\n",
       "      <td>23.64</td>\n",
       "      <td>85.26</td>\n",
       "      <td>92844.82</td>\n",
       "    </tr>\n",
       "    <tr>\n",
       "      <th>3</th>\n",
       "      <td>2022-07-18 15:54:55</td>\n",
       "      <td>2.51</td>\n",
       "      <td>0.00</td>\n",
       "      <td>0.00</td>\n",
       "      <td>0.0</td>\n",
       "      <td>7463.0</td>\n",
       "      <td>8318.0</td>\n",
       "      <td>23.62</td>\n",
       "      <td>85.93</td>\n",
       "      <td>92834.94</td>\n",
       "    </tr>\n",
       "    <tr>\n",
       "      <th>4</th>\n",
       "      <td>2022-07-18 15:59:56</td>\n",
       "      <td>0.55</td>\n",
       "      <td>2.51</td>\n",
       "      <td>2.51</td>\n",
       "      <td>0.0</td>\n",
       "      <td>7463.0</td>\n",
       "      <td>4149.0</td>\n",
       "      <td>23.82</td>\n",
       "      <td>86.06</td>\n",
       "      <td>92815.25</td>\n",
       "    </tr>\n",
       "  </tbody>\n",
       "</table>\n",
       "</div>"
      ],
      "text/plain": [
       "                 ttime   pm1   pm2   pm3   am      sm      lum   temp   humd  \\\n",
       "0  2022-07-18 15:39:58  0.83  0.00  0.00  0.0  7463.0   6547.0  23.02  90.57   \n",
       "1  2022-07-18 15:44:55  1.39  0.00  0.00  0.0  7576.0  10249.0  23.47  88.37   \n",
       "2  2022-07-18 15:49:55  1.95  0.00  0.00  0.0  7576.0  12636.0  23.64  85.26   \n",
       "3  2022-07-18 15:54:55  2.51  0.00  0.00  0.0  7463.0   8318.0  23.62  85.93   \n",
       "4  2022-07-18 15:59:56  0.55  2.51  2.51  0.0  7463.0   4149.0  23.82  86.06   \n",
       "\n",
       "       pres  \n",
       "0  92849.25  \n",
       "1  92848.31  \n",
       "2  92844.82  \n",
       "3  92834.94  \n",
       "4  92815.25  "
      ]
     },
     "execution_count": 4,
     "metadata": {},
     "output_type": "execute_result"
    }
   ],
   "source": [
    "df2.head()"
   ]
  },
  {
   "cell_type": "code",
   "execution_count": 60,
   "id": "a572a07e",
   "metadata": {},
   "outputs": [
    {
     "data": {
      "text/plain": [
       "(19341, 7)"
      ]
     },
     "execution_count": 60,
     "metadata": {},
     "output_type": "execute_result"
    }
   ],
   "source": [
    "df1.shape "
   ]
  },
  {
   "cell_type": "code",
   "execution_count": 61,
   "id": "abafe124",
   "metadata": {},
   "outputs": [
    {
     "data": {
      "text/plain": [
       "(20166, 9)"
      ]
     },
     "execution_count": 61,
     "metadata": {},
     "output_type": "execute_result"
    }
   ],
   "source": [
    "df2.shape"
   ]
  },
  {
   "cell_type": "code",
   "execution_count": 62,
   "id": "fe361d89",
   "metadata": {},
   "outputs": [
    {
     "data": {
      "text/html": [
       "<div>\n",
       "<style scoped>\n",
       "    .dataframe tbody tr th:only-of-type {\n",
       "        vertical-align: middle;\n",
       "    }\n",
       "\n",
       "    .dataframe tbody tr th {\n",
       "        vertical-align: top;\n",
       "    }\n",
       "\n",
       "    .dataframe thead th {\n",
       "        text-align: right;\n",
       "    }\n",
       "</style>\n",
       "<table border=\"1\" class=\"dataframe\">\n",
       "  <thead>\n",
       "    <tr style=\"text-align: right;\">\n",
       "      <th></th>\n",
       "      <th>pm1</th>\n",
       "      <th>pm2</th>\n",
       "      <th>pm3</th>\n",
       "      <th>am</th>\n",
       "      <th>sm</th>\n",
       "      <th>st</th>\n",
       "      <th>lum</th>\n",
       "    </tr>\n",
       "  </thead>\n",
       "  <tbody>\n",
       "    <tr>\n",
       "      <th>count</th>\n",
       "      <td>19341.000000</td>\n",
       "      <td>19341.000000</td>\n",
       "      <td>19341.000000</td>\n",
       "      <td>19341.000000</td>\n",
       "      <td>19341.000000</td>\n",
       "      <td>19341.000000</td>\n",
       "      <td>19341.000000</td>\n",
       "    </tr>\n",
       "    <tr>\n",
       "      <th>mean</th>\n",
       "      <td>1.610847</td>\n",
       "      <td>2.634487</td>\n",
       "      <td>60.406189</td>\n",
       "      <td>2.707189</td>\n",
       "      <td>4288.940593</td>\n",
       "      <td>26.852714</td>\n",
       "      <td>2726.855615</td>\n",
       "    </tr>\n",
       "    <tr>\n",
       "      <th>std</th>\n",
       "      <td>1.058214</td>\n",
       "      <td>1.292804</td>\n",
       "      <td>28.330731</td>\n",
       "      <td>1.824523</td>\n",
       "      <td>2901.962556</td>\n",
       "      <td>1.163759</td>\n",
       "      <td>4227.461974</td>\n",
       "    </tr>\n",
       "    <tr>\n",
       "      <th>min</th>\n",
       "      <td>0.550000</td>\n",
       "      <td>1.110000</td>\n",
       "      <td>5.300000</td>\n",
       "      <td>0.800000</td>\n",
       "      <td>286.000000</td>\n",
       "      <td>24.040000</td>\n",
       "      <td>1.000000</td>\n",
       "    </tr>\n",
       "    <tr>\n",
       "      <th>25%</th>\n",
       "      <td>0.550000</td>\n",
       "      <td>1.670000</td>\n",
       "      <td>38.550000</td>\n",
       "      <td>2.015076</td>\n",
       "      <td>541.000000</td>\n",
       "      <td>26.110000</td>\n",
       "      <td>1.000000</td>\n",
       "    </tr>\n",
       "    <tr>\n",
       "      <th>50%</th>\n",
       "      <td>1.110000</td>\n",
       "      <td>2.230000</td>\n",
       "      <td>51.400000</td>\n",
       "      <td>2.015076</td>\n",
       "      <td>6173.000000</td>\n",
       "      <td>26.700000</td>\n",
       "      <td>14.000000</td>\n",
       "    </tr>\n",
       "    <tr>\n",
       "      <th>75%</th>\n",
       "      <td>2.230000</td>\n",
       "      <td>3.350000</td>\n",
       "      <td>77.110000</td>\n",
       "      <td>3.200000</td>\n",
       "      <td>6667.000000</td>\n",
       "      <td>27.390000</td>\n",
       "      <td>4675.000000</td>\n",
       "    </tr>\n",
       "    <tr>\n",
       "      <th>max</th>\n",
       "      <td>6.700000</td>\n",
       "      <td>6.700000</td>\n",
       "      <td>153.660000</td>\n",
       "      <td>18.390000</td>\n",
       "      <td>7937.000000</td>\n",
       "      <td>31.170000</td>\n",
       "      <td>19288.000000</td>\n",
       "    </tr>\n",
       "  </tbody>\n",
       "</table>\n",
       "</div>"
      ],
      "text/plain": [
       "                pm1           pm2           pm3            am            sm  \\\n",
       "count  19341.000000  19341.000000  19341.000000  19341.000000  19341.000000   \n",
       "mean       1.610847      2.634487     60.406189      2.707189   4288.940593   \n",
       "std        1.058214      1.292804     28.330731      1.824523   2901.962556   \n",
       "min        0.550000      1.110000      5.300000      0.800000    286.000000   \n",
       "25%        0.550000      1.670000     38.550000      2.015076    541.000000   \n",
       "50%        1.110000      2.230000     51.400000      2.015076   6173.000000   \n",
       "75%        2.230000      3.350000     77.110000      3.200000   6667.000000   \n",
       "max        6.700000      6.700000    153.660000     18.390000   7937.000000   \n",
       "\n",
       "                 st           lum  \n",
       "count  19341.000000  19341.000000  \n",
       "mean      26.852714   2726.855615  \n",
       "std        1.163759   4227.461974  \n",
       "min       24.040000      1.000000  \n",
       "25%       26.110000      1.000000  \n",
       "50%       26.700000     14.000000  \n",
       "75%       27.390000   4675.000000  \n",
       "max       31.170000  19288.000000  "
      ]
     },
     "execution_count": 62,
     "metadata": {},
     "output_type": "execute_result"
    }
   ],
   "source": [
    "df1.describe()"
   ]
  },
  {
   "cell_type": "code",
   "execution_count": 63,
   "id": "462163d1",
   "metadata": {},
   "outputs": [
    {
     "data": {
      "text/html": [
       "<div>\n",
       "<style scoped>\n",
       "    .dataframe tbody tr th:only-of-type {\n",
       "        vertical-align: middle;\n",
       "    }\n",
       "\n",
       "    .dataframe tbody tr th {\n",
       "        vertical-align: top;\n",
       "    }\n",
       "\n",
       "    .dataframe thead th {\n",
       "        text-align: right;\n",
       "    }\n",
       "</style>\n",
       "<table border=\"1\" class=\"dataframe\">\n",
       "  <thead>\n",
       "    <tr style=\"text-align: right;\">\n",
       "      <th></th>\n",
       "      <th>pm1</th>\n",
       "      <th>pm2</th>\n",
       "      <th>pm3</th>\n",
       "      <th>am</th>\n",
       "      <th>sm</th>\n",
       "      <th>lum</th>\n",
       "      <th>temp</th>\n",
       "      <th>humd</th>\n",
       "      <th>pres</th>\n",
       "    </tr>\n",
       "  </thead>\n",
       "  <tbody>\n",
       "    <tr>\n",
       "      <th>count</th>\n",
       "      <td>20166.000000</td>\n",
       "      <td>20166.000000</td>\n",
       "      <td>20166.000000</td>\n",
       "      <td>20166.000000</td>\n",
       "      <td>20166.000000</td>\n",
       "      <td>20166.000000</td>\n",
       "      <td>20166.000000</td>\n",
       "      <td>20166.000000</td>\n",
       "      <td>20166.000000</td>\n",
       "    </tr>\n",
       "    <tr>\n",
       "      <th>mean</th>\n",
       "      <td>1.585495</td>\n",
       "      <td>2.581735</td>\n",
       "      <td>59.183922</td>\n",
       "      <td>1.302631</td>\n",
       "      <td>4353.081633</td>\n",
       "      <td>2969.565732</td>\n",
       "      <td>22.625972</td>\n",
       "      <td>78.329035</td>\n",
       "      <td>93154.619405</td>\n",
       "    </tr>\n",
       "    <tr>\n",
       "      <th>std</th>\n",
       "      <td>1.045641</td>\n",
       "      <td>1.288210</td>\n",
       "      <td>28.154372</td>\n",
       "      <td>1.573685</td>\n",
       "      <td>3067.826740</td>\n",
       "      <td>4250.061969</td>\n",
       "      <td>4.666760</td>\n",
       "      <td>24.007034</td>\n",
       "      <td>290.963485</td>\n",
       "    </tr>\n",
       "    <tr>\n",
       "      <th>min</th>\n",
       "      <td>0.550000</td>\n",
       "      <td>1.110000</td>\n",
       "      <td>2.510000</td>\n",
       "      <td>0.729346</td>\n",
       "      <td>325.000000</td>\n",
       "      <td>1.000000</td>\n",
       "      <td>8.610000</td>\n",
       "      <td>13.320000</td>\n",
       "      <td>92352.450000</td>\n",
       "    </tr>\n",
       "    <tr>\n",
       "      <th>25%</th>\n",
       "      <td>0.550000</td>\n",
       "      <td>1.670000</td>\n",
       "      <td>36.880000</td>\n",
       "      <td>0.729346</td>\n",
       "      <td>468.000000</td>\n",
       "      <td>3.000000</td>\n",
       "      <td>20.000000</td>\n",
       "      <td>61.690000</td>\n",
       "      <td>92976.272500</td>\n",
       "    </tr>\n",
       "    <tr>\n",
       "      <th>50%</th>\n",
       "      <td>1.110000</td>\n",
       "      <td>2.230000</td>\n",
       "      <td>51.400000</td>\n",
       "      <td>0.729346</td>\n",
       "      <td>6410.000000</td>\n",
       "      <td>384.000000</td>\n",
       "      <td>21.430000</td>\n",
       "      <td>88.220000</td>\n",
       "      <td>93152.930000</td>\n",
       "    </tr>\n",
       "    <tr>\n",
       "      <th>75%</th>\n",
       "      <td>2.230000</td>\n",
       "      <td>3.350000</td>\n",
       "      <td>77.110000</td>\n",
       "      <td>0.729346</td>\n",
       "      <td>7042.000000</td>\n",
       "      <td>5275.000000</td>\n",
       "      <td>26.110000</td>\n",
       "      <td>100.000000</td>\n",
       "      <td>93350.997500</td>\n",
       "    </tr>\n",
       "    <tr>\n",
       "      <th>max</th>\n",
       "      <td>6.700000</td>\n",
       "      <td>6.700000</td>\n",
       "      <td>153.660000</td>\n",
       "      <td>18.390000</td>\n",
       "      <td>7937.000000</td>\n",
       "      <td>19767.000000</td>\n",
       "      <td>36.880000</td>\n",
       "      <td>100.000000</td>\n",
       "      <td>94042.780000</td>\n",
       "    </tr>\n",
       "  </tbody>\n",
       "</table>\n",
       "</div>"
      ],
      "text/plain": [
       "                pm1           pm2           pm3            am            sm  \\\n",
       "count  20166.000000  20166.000000  20166.000000  20166.000000  20166.000000   \n",
       "mean       1.585495      2.581735     59.183922      1.302631   4353.081633   \n",
       "std        1.045641      1.288210     28.154372      1.573685   3067.826740   \n",
       "min        0.550000      1.110000      2.510000      0.729346    325.000000   \n",
       "25%        0.550000      1.670000     36.880000      0.729346    468.000000   \n",
       "50%        1.110000      2.230000     51.400000      0.729346   6410.000000   \n",
       "75%        2.230000      3.350000     77.110000      0.729346   7042.000000   \n",
       "max        6.700000      6.700000    153.660000     18.390000   7937.000000   \n",
       "\n",
       "                lum          temp          humd          pres  \n",
       "count  20166.000000  20166.000000  20166.000000  20166.000000  \n",
       "mean    2969.565732     22.625972     78.329035  93154.619405  \n",
       "std     4250.061969      4.666760     24.007034    290.963485  \n",
       "min        1.000000      8.610000     13.320000  92352.450000  \n",
       "25%        3.000000     20.000000     61.690000  92976.272500  \n",
       "50%      384.000000     21.430000     88.220000  93152.930000  \n",
       "75%     5275.000000     26.110000    100.000000  93350.997500  \n",
       "max    19767.000000     36.880000    100.000000  94042.780000  "
      ]
     },
     "execution_count": 63,
     "metadata": {},
     "output_type": "execute_result"
    }
   ],
   "source": [
    "df2.describe()"
   ]
  },
  {
   "cell_type": "markdown",
   "id": "fcf39626",
   "metadata": {},
   "source": [
    "## Data Preprocessing "
   ]
  },
  {
   "cell_type": "code",
   "execution_count": 64,
   "id": "9c81bddb",
   "metadata": {
    "scrolled": true
   },
   "outputs": [
    {
     "data": {
      "text/plain": [
       "pm1    0\n",
       "pm2    0\n",
       "pm3    0\n",
       "am     0\n",
       "sm     0\n",
       "st     0\n",
       "lum    0\n",
       "dtype: int64"
      ]
     },
     "execution_count": 64,
     "metadata": {},
     "output_type": "execute_result"
    }
   ],
   "source": [
    "df1.isna().sum()"
   ]
  },
  {
   "cell_type": "code",
   "execution_count": 65,
   "id": "84c5957d",
   "metadata": {},
   "outputs": [
    {
     "data": {
      "text/plain": [
       "pm1     0\n",
       "pm2     0\n",
       "pm3     0\n",
       "am      0\n",
       "sm      0\n",
       "lum     0\n",
       "temp    0\n",
       "humd    0\n",
       "pres    0\n",
       "dtype: int64"
      ]
     },
     "execution_count": 65,
     "metadata": {},
     "output_type": "execute_result"
    }
   ],
   "source": [
    "df2.isna().sum()"
   ]
  },
  {
   "cell_type": "code",
   "execution_count": 66,
   "id": "e3d01d75",
   "metadata": {
    "scrolled": true
   },
   "outputs": [
    {
     "name": "stdout",
     "output_type": "stream",
     "text": [
      "Count of zeros in column  pm1  is :  0\n",
      "Count of zeros in column  pm2  is :  0\n",
      "Count of zeros in column  pm3  is :  0\n",
      "Count of zeros in column  am  is :  0\n",
      "Count of zeros in column  sm  is :  0\n",
      "Count of zeros in column  st  is :  0\n",
      "Count of zeros in column  lum  is :  0\n"
     ]
    }
   ],
   "source": [
    "for column_name in df1.columns:\n",
    "    column = df1[column_name]\n",
    "    count = (column == 0).sum()\n",
    "    print('Count of zeros in column ', column_name, ' is : ', count)"
   ]
  },
  {
   "cell_type": "code",
   "execution_count": 67,
   "id": "5a1c3308",
   "metadata": {},
   "outputs": [
    {
     "name": "stdout",
     "output_type": "stream",
     "text": [
      "Count of zeros in column  pm1  is :  0\n",
      "Count of zeros in column  pm2  is :  0\n",
      "Count of zeros in column  pm3  is :  0\n",
      "Count of zeros in column  am  is :  0\n",
      "Count of zeros in column  sm  is :  0\n",
      "Count of zeros in column  lum  is :  0\n",
      "Count of zeros in column  temp  is :  0\n",
      "Count of zeros in column  humd  is :  0\n",
      "Count of zeros in column  pres  is :  0\n"
     ]
    }
   ],
   "source": [
    "for column_name in df2.columns:\n",
    "    column = df2[column_name]\n",
    "    count = (column == 0).sum()\n",
    "    print('Count of zeros in column ', column_name, ' is : ', count)"
   ]
  },
  {
   "cell_type": "code",
   "execution_count": 13,
   "id": "57caab70",
   "metadata": {},
   "outputs": [],
   "source": [
    "del(df1['ttime'])\n",
    "del(df2['ttime'])"
   ]
  },
  {
   "cell_type": "markdown",
   "id": "2efa8f52",
   "metadata": {},
   "source": [
    "### Replacing invalid values using mean "
   ]
  },
  {
   "cell_type": "code",
   "execution_count": 70,
   "id": "28f9b647",
   "metadata": {},
   "outputs": [],
   "source": [
    "for column in df1.columns:\n",
    "    col_mean = df1[column].mean()\n",
    "    df1[column] = df1[column].replace(0, col_mean)"
   ]
  },
  {
   "cell_type": "code",
   "execution_count": 71,
   "id": "7fbdae14",
   "metadata": {},
   "outputs": [],
   "source": [
    "for column in df2.columns:\n",
    "    col_mean = df2[column].mean()\n",
    "    df2[column] = df2[column].replace(0, col_mean)"
   ]
  },
  {
   "cell_type": "code",
   "execution_count": 72,
   "id": "57b870d7",
   "metadata": {},
   "outputs": [
    {
     "name": "stdout",
     "output_type": "stream",
     "text": [
      "Count of zeros in column  pm1  is :  0\n",
      "Count of zeros in column  pm2  is :  0\n",
      "Count of zeros in column  pm3  is :  0\n",
      "Count of zeros in column  am  is :  0\n",
      "Count of zeros in column  sm  is :  0\n",
      "Count of zeros in column  st  is :  0\n",
      "Count of zeros in column  lum  is :  0\n"
     ]
    }
   ],
   "source": [
    "for column_name in df1.columns:\n",
    "    column = df1[column_name]\n",
    "    count = (column == 0).sum()\n",
    "    print('Count of zeros in column ', column_name, ' is : ', count)"
   ]
  },
  {
   "cell_type": "code",
   "execution_count": 73,
   "id": "fa8172e7",
   "metadata": {},
   "outputs": [
    {
     "name": "stdout",
     "output_type": "stream",
     "text": [
      "Count of zeros in column  pm1  is :  0\n",
      "Count of zeros in column  pm2  is :  0\n",
      "Count of zeros in column  pm3  is :  0\n",
      "Count of zeros in column  am  is :  0\n",
      "Count of zeros in column  sm  is :  0\n",
      "Count of zeros in column  lum  is :  0\n",
      "Count of zeros in column  temp  is :  0\n",
      "Count of zeros in column  humd  is :  0\n",
      "Count of zeros in column  pres  is :  0\n"
     ]
    }
   ],
   "source": [
    "for column_name in df2.columns:\n",
    "    column = df2[column_name]\n",
    "    count = (column == 0).sum()\n",
    "    print('Count of zeros in column ', column_name, ' is : ', count)"
   ]
  },
  {
   "cell_type": "markdown",
   "id": "69a7e52f",
   "metadata": {},
   "source": [
    "### Heatmap for Dataset 1 "
   ]
  },
  {
   "cell_type": "code",
   "execution_count": 74,
   "id": "d801888f",
   "metadata": {},
   "outputs": [
    {
     "data": {
      "image/png": "[encoded data removed]",
      "text/plain": [
       "<Figure size 640x480 with 2 Axes>"
      ]
     },
     "metadata": {},
     "output_type": "display_data"
    }
   ],
   "source": [
    "sns.heatmap(df1.corr(), cmap=\"YlGnBu\", annot = True)\n",
    "plt.show()"
   ]
  },
  {
   "cell_type": "code",
   "execution_count": 75,
   "id": "6d8ac00d",
   "metadata": {},
   "outputs": [
    {
     "data": {
      "image/png": "[encoded data removed]",
      "text/plain": [
       "<Figure size 640x480 with 2 Axes>"
      ]
     },
     "metadata": {},
     "output_type": "display_data"
    }
   ],
   "source": [
    "sns.heatmap(df2.corr(), cmap=\"YlGnBu\", annot = True)\n",
    "plt.show()"
   ]
  },
  {
   "cell_type": "markdown",
   "id": "293d1053",
   "metadata": {},
   "source": [
    "### Train Test Split"
   ]
  },
  {
   "cell_type": "code",
   "execution_count": 76,
   "id": "9c20b1db",
   "metadata": {},
   "outputs": [],
   "source": [
    "X_temp1=df1.drop('sm',axis=1)\n",
    "Y_temp1=df1.sm\n",
    "X_temp2=df2.drop('sm',axis=1)\n",
    "Y_temp2=df2.sm"
   ]
  },
  {
   "cell_type": "code",
   "execution_count": 77,
   "id": "b0f37e82",
   "metadata": {},
   "outputs": [],
   "source": [
    "x1_train, x1_test,y1_train,y1_test = train_test_split(X_temp1,Y_temp1,test_size =0.2)"
   ]
  },
  {
   "cell_type": "code",
   "execution_count": 78,
   "id": "aa206a75",
   "metadata": {},
   "outputs": [],
   "source": [
    "x2_train, x2_test,y2_train,y2_test = train_test_split(X_temp2,Y_temp2,test_size =0.2)"
   ]
  },
  {
   "cell_type": "code",
   "execution_count": 79,
   "id": "8b70d8c4",
   "metadata": {},
   "outputs": [],
   "source": [
    "Multivariable_model1 = LinearRegression()\n",
    "Multivariable_model2 = LinearRegression()"
   ]
  },
  {
   "cell_type": "code",
   "execution_count": 80,
   "id": "31871b1e",
   "metadata": {},
   "outputs": [
    {
     "data": {
      "text/html": [
       "<style>#sk-container-id-5 {color: black;background-color: white;}#sk-container-id-5 pre{padding: 0;}#sk-container-id-5 div.sk-toggleable {background-color: white;}#sk-container-id-5 label.sk-toggleable__label {cursor: pointer;display: block;width: 100%;margin-bottom: 0;padding: 0.3em;box-sizing: border-box;text-align: center;}#sk-container-id-5 label.sk-toggleable__label-arrow:before {content: \"▸\";float: left;margin-right: 0.25em;color: #696969;}#sk-container-id-5 label.sk-toggleable__label-arrow:hover:before {color: black;}#sk-container-id-5 div.sk-estimator:hover label.sk-toggleable__label-arrow:before {color: black;}#sk-container-id-5 div.sk-toggleable__content {max-height: 0;max-width: 0;overflow: hidden;text-align: left;background-color: #f0f8ff;}#sk-container-id-5 div.sk-toggleable__content pre {margin: 0.2em;color: black;border-radius: 0.25em;background-color: #f0f8ff;}#sk-container-id-5 input.sk-toggleable__control:checked~div.sk-toggleable__content {max-height: 200px;max-width: 100%;overflow: auto;}#sk-container-id-5 input.sk-toggleable__control:checked~label.sk-toggleable__label-arrow:before {content: \"▾\";}#sk-container-id-5 div.sk-estimator input.sk-toggleable__control:checked~label.sk-toggleable__label {background-color: #d4ebff;}#sk-container-id-5 div.sk-label input.sk-toggleable__control:checked~label.sk-toggleable__label {background-color: #d4ebff;}#sk-container-id-5 input.sk-hidden--visually {border: 0;clip: rect(1px 1px 1px 1px);clip: rect(1px, 1px, 1px, 1px);height: 1px;margin: -1px;overflow: hidden;padding: 0;position: absolute;width: 1px;}#sk-container-id-5 div.sk-estimator {font-family: monospace;background-color: #f0f8ff;border: 1px dotted black;border-radius: 0.25em;box-sizing: border-box;margin-bottom: 0.5em;}#sk-container-id-5 div.sk-estimator:hover {background-color: #d4ebff;}#sk-container-id-5 div.sk-parallel-item::after {content: \"\";width: 100%;border-bottom: 1px solid gray;flex-grow: 1;}#sk-container-id-5 div.sk-label:hover label.sk-toggleable__label {background-color: #d4ebff;}#sk-container-id-5 div.sk-serial::before {content: \"\";position: absolute;border-left: 1px solid gray;box-sizing: border-box;top: 0;bottom: 0;left: 50%;z-index: 0;}#sk-container-id-5 div.sk-serial {display: flex;flex-direction: column;align-items: center;background-color: white;padding-right: 0.2em;padding-left: 0.2em;position: relative;}#sk-container-id-5 div.sk-item {position: relative;z-index: 1;}#sk-container-id-5 div.sk-parallel {display: flex;align-items: stretch;justify-content: center;background-color: white;position: relative;}#sk-container-id-5 div.sk-item::before, #sk-container-id-5 div.sk-parallel-item::before {content: \"\";position: absolute;border-left: 1px solid gray;box-sizing: border-box;top: 0;bottom: 0;left: 50%;z-index: -1;}#sk-container-id-5 div.sk-parallel-item {display: flex;flex-direction: column;z-index: 1;position: relative;background-color: white;}#sk-container-id-5 div.sk-parallel-item:first-child::after {align-self: flex-end;width: 50%;}#sk-container-id-5 div.sk-parallel-item:last-child::after {align-self: flex-start;width: 50%;}#sk-container-id-5 div.sk-parallel-item:only-child::after {width: 0;}#sk-container-id-5 div.sk-dashed-wrapped {border: 1px dashed gray;margin: 0 0.4em 0.5em 0.4em;box-sizing: border-box;padding-bottom: 0.4em;background-color: white;}#sk-container-id-5 div.sk-label label {font-family: monospace;font-weight: bold;display: inline-block;line-height: 1.2em;}#sk-container-id-5 div.sk-label-container {text-align: center;}#sk-container-id-5 div.sk-container {/* jupyter's `normalize.less` sets `[hidden] { display: none; }` but bootstrap.min.css set `[hidden] { display: none !important; }` so we also need the `!important` here to be able to override the default hidden behavior on the sphinx rendered scikit-learn.org. See: https://github.com/scikit-learn/scikit-learn/issues/21755 */display: inline-block !important;position: relative;}#sk-container-id-5 div.sk-text-repr-fallback {display: none;}</style><div id=\"sk-container-id-5\" class=\"sk-top-container\"><div class=\"sk-text-repr-fallback\"><pre>LinearRegression()</pre><b>In a Jupyter environment, please rerun this cell to show the HTML representation or trust the notebook. <br />On GitHub, the HTML representation is unable to render, please try loading this page with nbviewer.org.</b></div><div class=\"sk-container\" hidden><div class=\"sk-item\"><div class=\"sk-estimator sk-toggleable\"><input class=\"sk-toggleable__control sk-hidden--visually\" id=\"sk-estimator-id-5\" type=\"checkbox\" checked><label for=\"sk-estimator-id-5\" class=\"sk-toggleable__label sk-toggleable__label-arrow\">LinearRegression</label><div class=\"sk-toggleable__content\"><pre>LinearRegression()</pre></div></div></div></div></div>"
      ],
      "text/plain": [
       "LinearRegression()"
      ]
     },
     "execution_count": 80,
     "metadata": {},
     "output_type": "execute_result"
    }
   ],
   "source": [
    "Multivariable_model1.fit(x1_train,y1_train)\n",
    "Multivariable_model2.fit(x2_train,y2_train)"
   ]
  },
  {
   "cell_type": "code",
   "execution_count": 81,
   "id": "446adb61",
   "metadata": {},
   "outputs": [
    {
     "data": {
      "text/plain": [
       "0.5522435909020286"
      ]
     },
     "execution_count": 81,
     "metadata": {},
     "output_type": "execute_result"
    }
   ],
   "source": [
    "Multivariable_model1.score(x1_test,y1_test)"
   ]
  },
  {
   "cell_type": "markdown",
   "id": "51ad5fd1",
   "metadata": {},
   "source": [
    "### Accuracy of Multivariable linear regression for dataset 1 is 55.22%"
   ]
  },
  {
   "cell_type": "code",
   "execution_count": 82,
   "id": "1ee203c2",
   "metadata": {},
   "outputs": [
    {
     "data": {
      "text/plain": [
       "0.7450214383335041"
      ]
     },
     "execution_count": 82,
     "metadata": {},
     "output_type": "execute_result"
    }
   ],
   "source": [
    "Multivariable_model2.score(x2_test,y2_test)"
   ]
  },
  {
   "cell_type": "markdown",
   "id": "0a456935",
   "metadata": {},
   "source": [
    "###  Accuracy of Multivariable linear regression for dataset 2 is 74.50%"
   ]
  },
  {
   "cell_type": "code",
   "execution_count": 83,
   "id": "380b870b",
   "metadata": {},
   "outputs": [
    {
     "data": {
      "text/html": [
       "<style>#sk-container-id-6 {color: black;background-color: white;}#sk-container-id-6 pre{padding: 0;}#sk-container-id-6 div.sk-toggleable {background-color: white;}#sk-container-id-6 label.sk-toggleable__label {cursor: pointer;display: block;width: 100%;margin-bottom: 0;padding: 0.3em;box-sizing: border-box;text-align: center;}#sk-container-id-6 label.sk-toggleable__label-arrow:before {content: \"▸\";float: left;margin-right: 0.25em;color: #696969;}#sk-container-id-6 label.sk-toggleable__label-arrow:hover:before {color: black;}#sk-container-id-6 div.sk-estimator:hover label.sk-toggleable__label-arrow:before {color: black;}#sk-container-id-6 div.sk-toggleable__content {max-height: 0;max-width: 0;overflow: hidden;text-align: left;background-color: #f0f8ff;}#sk-container-id-6 div.sk-toggleable__content pre {margin: 0.2em;color: black;border-radius: 0.25em;background-color: #f0f8ff;}#sk-container-id-6 input.sk-toggleable__control:checked~div.sk-toggleable__content {max-height: 200px;max-width: 100%;overflow: auto;}#sk-container-id-6 input.sk-toggleable__control:checked~label.sk-toggleable__label-arrow:before {content: \"▾\";}#sk-container-id-6 div.sk-estimator input.sk-toggleable__control:checked~label.sk-toggleable__label {background-color: #d4ebff;}#sk-container-id-6 div.sk-label input.sk-toggleable__control:checked~label.sk-toggleable__label {background-color: #d4ebff;}#sk-container-id-6 input.sk-hidden--visually {border: 0;clip: rect(1px 1px 1px 1px);clip: rect(1px, 1px, 1px, 1px);height: 1px;margin: -1px;overflow: hidden;padding: 0;position: absolute;width: 1px;}#sk-container-id-6 div.sk-estimator {font-family: monospace;background-color: #f0f8ff;border: 1px dotted black;border-radius: 0.25em;box-sizing: border-box;margin-bottom: 0.5em;}#sk-container-id-6 div.sk-estimator:hover {background-color: #d4ebff;}#sk-container-id-6 div.sk-parallel-item::after {content: \"\";width: 100%;border-bottom: 1px solid gray;flex-grow: 1;}#sk-container-id-6 div.sk-label:hover label.sk-toggleable__label {background-color: #d4ebff;}#sk-container-id-6 div.sk-serial::before {content: \"\";position: absolute;border-left: 1px solid gray;box-sizing: border-box;top: 0;bottom: 0;left: 50%;z-index: 0;}#sk-container-id-6 div.sk-serial {display: flex;flex-direction: column;align-items: center;background-color: white;padding-right: 0.2em;padding-left: 0.2em;position: relative;}#sk-container-id-6 div.sk-item {position: relative;z-index: 1;}#sk-container-id-6 div.sk-parallel {display: flex;align-items: stretch;justify-content: center;background-color: white;position: relative;}#sk-container-id-6 div.sk-item::before, #sk-container-id-6 div.sk-parallel-item::before {content: \"\";position: absolute;border-left: 1px solid gray;box-sizing: border-box;top: 0;bottom: 0;left: 50%;z-index: -1;}#sk-container-id-6 div.sk-parallel-item {display: flex;flex-direction: column;z-index: 1;position: relative;background-color: white;}#sk-container-id-6 div.sk-parallel-item:first-child::after {align-self: flex-end;width: 50%;}#sk-container-id-6 div.sk-parallel-item:last-child::after {align-self: flex-start;width: 50%;}#sk-container-id-6 div.sk-parallel-item:only-child::after {width: 0;}#sk-container-id-6 div.sk-dashed-wrapped {border: 1px dashed gray;margin: 0 0.4em 0.5em 0.4em;box-sizing: border-box;padding-bottom: 0.4em;background-color: white;}#sk-container-id-6 div.sk-label label {font-family: monospace;font-weight: bold;display: inline-block;line-height: 1.2em;}#sk-container-id-6 div.sk-label-container {text-align: center;}#sk-container-id-6 div.sk-container {/* jupyter's `normalize.less` sets `[hidden] { display: none; }` but bootstrap.min.css set `[hidden] { display: none !important; }` so we also need the `!important` here to be able to override the default hidden behavior on the sphinx rendered scikit-learn.org. See: https://github.com/scikit-learn/scikit-learn/issues/21755 */display: inline-block !important;position: relative;}#sk-container-id-6 div.sk-text-repr-fallback {display: none;}</style><div id=\"sk-container-id-6\" class=\"sk-top-container\"><div class=\"sk-text-repr-fallback\"><pre>LinearRegression()</pre><b>In a Jupyter environment, please rerun this cell to show the HTML representation or trust the notebook. <br />On GitHub, the HTML representation is unable to render, please try loading this page with nbviewer.org.</b></div><div class=\"sk-container\" hidden><div class=\"sk-item\"><div class=\"sk-estimator sk-toggleable\"><input class=\"sk-toggleable__control sk-hidden--visually\" id=\"sk-estimator-id-6\" type=\"checkbox\" checked><label for=\"sk-estimator-id-6\" class=\"sk-toggleable__label sk-toggleable__label-arrow\">LinearRegression</label><div class=\"sk-toggleable__content\"><pre>LinearRegression()</pre></div></div></div></div></div>"
      ],
      "text/plain": [
       "LinearRegression()"
      ]
     },
     "execution_count": 83,
     "metadata": {},
     "output_type": "execute_result"
    }
   ],
   "source": [
    "poly = PolynomialFeatures(degree=3)\n",
    "X_poly_train = poly.fit_transform(x1_train)\n",
    "lin_reg = LinearRegression()\n",
    "lin_reg.fit(X_poly_train, y1_train)"
   ]
  },
  {
   "cell_type": "code",
   "execution_count": 84,
   "id": "10495c2d",
   "metadata": {},
   "outputs": [
    {
     "name": "stdout",
     "output_type": "stream",
     "text": [
      "R2 score on testing data: 0.870703101951592\n"
     ]
    }
   ],
   "source": [
    "X_poly_test = poly.transform(x1_test)\n",
    "y_test_pred = lin_reg.predict(X_poly_test)\n",
    "r2_test = r2_score(y1_test, y_test_pred)\n",
    "print(\"R2 score on testing data:\", r2_test)"
   ]
  },
  {
   "cell_type": "markdown",
   "id": "8b5b31af",
   "metadata": {},
   "source": [
    "###  Accuracy of Multivariable polynomial regression for dataset 1 is 87.07%"
   ]
  },
  {
   "cell_type": "code",
   "execution_count": 34,
   "id": "332da20f",
   "metadata": {},
   "outputs": [
    {
     "data": {
      "text/html": [
       "<style>#sk-container-id-4 {color: black;background-color: white;}#sk-container-id-4 pre{padding: 0;}#sk-container-id-4 div.sk-toggleable {background-color: white;}#sk-container-id-4 label.sk-toggleable__label {cursor: pointer;display: block;width: 100%;margin-bottom: 0;padding: 0.3em;box-sizing: border-box;text-align: center;}#sk-container-id-4 label.sk-toggleable__label-arrow:before {content: \"▸\";float: left;margin-right: 0.25em;color: #696969;}#sk-container-id-4 label.sk-toggleable__label-arrow:hover:before {color: black;}#sk-container-id-4 div.sk-estimator:hover label.sk-toggleable__label-arrow:before {color: black;}#sk-container-id-4 div.sk-toggleable__content {max-height: 0;max-width: 0;overflow: hidden;text-align: left;background-color: #f0f8ff;}#sk-container-id-4 div.sk-toggleable__content pre {margin: 0.2em;color: black;border-radius: 0.25em;background-color: #f0f8ff;}#sk-container-id-4 input.sk-toggleable__control:checked~div.sk-toggleable__content {max-height: 200px;max-width: 100%;overflow: auto;}#sk-container-id-4 input.sk-toggleable__control:checked~label.sk-toggleable__label-arrow:before {content: \"▾\";}#sk-container-id-4 div.sk-estimator input.sk-toggleable__control:checked~label.sk-toggleable__label {background-color: #d4ebff;}#sk-container-id-4 div.sk-label input.sk-toggleable__control:checked~label.sk-toggleable__label {background-color: #d4ebff;}#sk-container-id-4 input.sk-hidden--visually {border: 0;clip: rect(1px 1px 1px 1px);clip: rect(1px, 1px, 1px, 1px);height: 1px;margin: -1px;overflow: hidden;padding: 0;position: absolute;width: 1px;}#sk-container-id-4 div.sk-estimator {font-family: monospace;background-color: #f0f8ff;border: 1px dotted black;border-radius: 0.25em;box-sizing: border-box;margin-bottom: 0.5em;}#sk-container-id-4 div.sk-estimator:hover {background-color: #d4ebff;}#sk-container-id-4 div.sk-parallel-item::after {content: \"\";width: 100%;border-bottom: 1px solid gray;flex-grow: 1;}#sk-container-id-4 div.sk-label:hover label.sk-toggleable__label {background-color: #d4ebff;}#sk-container-id-4 div.sk-serial::before {content: \"\";position: absolute;border-left: 1px solid gray;box-sizing: border-box;top: 0;bottom: 0;left: 50%;z-index: 0;}#sk-container-id-4 div.sk-serial {display: flex;flex-direction: column;align-items: center;background-color: white;padding-right: 0.2em;padding-left: 0.2em;position: relative;}#sk-container-id-4 div.sk-item {position: relative;z-index: 1;}#sk-container-id-4 div.sk-parallel {display: flex;align-items: stretch;justify-content: center;background-color: white;position: relative;}#sk-container-id-4 div.sk-item::before, #sk-container-id-4 div.sk-parallel-item::before {content: \"\";position: absolute;border-left: 1px solid gray;box-sizing: border-box;top: 0;bottom: 0;left: 50%;z-index: -1;}#sk-container-id-4 div.sk-parallel-item {display: flex;flex-direction: column;z-index: 1;position: relative;background-color: white;}#sk-container-id-4 div.sk-parallel-item:first-child::after {align-self: flex-end;width: 50%;}#sk-container-id-4 div.sk-parallel-item:last-child::after {align-self: flex-start;width: 50%;}#sk-container-id-4 div.sk-parallel-item:only-child::after {width: 0;}#sk-container-id-4 div.sk-dashed-wrapped {border: 1px dashed gray;margin: 0 0.4em 0.5em 0.4em;box-sizing: border-box;padding-bottom: 0.4em;background-color: white;}#sk-container-id-4 div.sk-label label {font-family: monospace;font-weight: bold;display: inline-block;line-height: 1.2em;}#sk-container-id-4 div.sk-label-container {text-align: center;}#sk-container-id-4 div.sk-container {/* jupyter's `normalize.less` sets `[hidden] { display: none; }` but bootstrap.min.css set `[hidden] { display: none !important; }` so we also need the `!important` here to be able to override the default hidden behavior on the sphinx rendered scikit-learn.org. See: https://github.com/scikit-learn/scikit-learn/issues/21755 */display: inline-block !important;position: relative;}#sk-container-id-4 div.sk-text-repr-fallback {display: none;}</style><div id=\"sk-container-id-4\" class=\"sk-top-container\"><div class=\"sk-text-repr-fallback\"><pre>LinearRegression()</pre><b>In a Jupyter environment, please rerun this cell to show the HTML representation or trust the notebook. <br />On GitHub, the HTML representation is unable to render, please try loading this page with nbviewer.org.</b></div><div class=\"sk-container\" hidden><div class=\"sk-item\"><div class=\"sk-estimator sk-toggleable\"><input class=\"sk-toggleable__control sk-hidden--visually\" id=\"sk-estimator-id-4\" type=\"checkbox\" checked><label for=\"sk-estimator-id-4\" class=\"sk-toggleable__label sk-toggleable__label-arrow\">LinearRegression</label><div class=\"sk-toggleable__content\"><pre>LinearRegression()</pre></div></div></div></div></div>"
      ],
      "text/plain": [
       "LinearRegression()"
      ]
     },
     "execution_count": 34,
     "metadata": {},
     "output_type": "execute_result"
    }
   ],
   "source": [
    "poly = PolynomialFeatures(degree=3)\n",
    "X_poly_train = poly.fit_transform(x2_train)\n",
    "lin_reg = LinearRegression()\n",
    "lin_reg.fit(X_poly_train, y2_train)"
   ]
  },
  {
   "cell_type": "code",
   "execution_count": 35,
   "id": "6279164d",
   "metadata": {},
   "outputs": [
    {
     "name": "stdout",
     "output_type": "stream",
     "text": [
      "R2 score on testing data: 0.8743976766151814\n"
     ]
    }
   ],
   "source": [
    "X_poly_test = poly.transform(x2_test)\n",
    "y_test_pred = lin_reg.predict(X_poly_test)\n",
    "r2_test = r2_score(y2_test, y_test_pred)\n",
    "print(\"R2 score on testing data:\", r2_test)"
   ]
  },
  {
   "cell_type": "markdown",
   "id": "bf2c700f",
   "metadata": {},
   "source": [
    "###  Accuracy of Multivariable polynomial regression for dataset 2 is 87.43"
   ]
  },
  {
   "cell_type": "code",
   "execution_count": 85,
   "id": "6127959a",
   "metadata": {},
   "outputs": [],
   "source": [
    "degrees = [2, 3, 4, 5, 6]"
   ]
  },
  {
   "cell_type": "code",
   "execution_count": 86,
   "id": "e929e1fd",
   "metadata": {},
   "outputs": [
    {
     "data": {
      "image/png": "[encoded data removed]",
      "text/plain": [
       "<Figure size 640x480 with 1 Axes>"
      ]
     },
     "metadata": {},
     "output_type": "display_data"
    }
   ],
   "source": [
    "test_scores = []\n",
    "train_scores = []\n",
    "for degree in degrees:\n",
    "    poly = PolynomialFeatures(degree=degree)\n",
    "    X_poly_train = poly.fit_transform(x2_train)\n",
    "    X_poly_test = poly.transform(x2_test)\n",
    "    lin_reg = LinearRegression()\n",
    "    lin_reg.fit(X_poly_train, y2_train)\n",
    "    y_train_pred = lin_reg.predict(X_poly_train)\n",
    "    y_test_pred = lin_reg.predict(X_poly_test)\n",
    "    train_scores.append(r2_score(y2_train, y_train_pred))\n",
    "    test_scores.append(r2_score(y2_test, y_test_pred))\n",
    "\n",
    "# Plot the results\n",
    "plt.plot(degrees, test_scores, label='Testing R2 score')\n",
    "plt.xlabel('Polynomial degree')\n",
    "plt.ylabel('R2 score')\n",
    "plt.legend()\n",
    "plt.show()"
   ]
  },
  {
   "cell_type": "code",
   "execution_count": 87,
   "id": "18f8619a",
   "metadata": {},
   "outputs": [],
   "source": [
    "pred1 = pd.read_csv('https://raw.githubusercontent.com/chidaksh/CosmosocClub/master/Parsec2023/user1_data.csv')\n",
    "pred2 = pd.read_csv('https://raw.githubusercontent.com/chidaksh/CosmosocClub/master/Parsec2023/user2_data.csv')"
   ]
  },
  {
   "cell_type": "code",
   "execution_count": 88,
   "id": "7cf3adb8",
   "metadata": {},
   "outputs": [
    {
     "data": {
      "text/html": [
       "<div>\n",
       "<style scoped>\n",
       "    .dataframe tbody tr th:only-of-type {\n",
       "        vertical-align: middle;\n",
       "    }\n",
       "\n",
       "    .dataframe tbody tr th {\n",
       "        vertical-align: top;\n",
       "    }\n",
       "\n",
       "    .dataframe thead th {\n",
       "        text-align: right;\n",
       "    }\n",
       "</style>\n",
       "<table border=\"1\" class=\"dataframe\">\n",
       "  <thead>\n",
       "    <tr style=\"text-align: right;\">\n",
       "      <th></th>\n",
       "      <th>ttime</th>\n",
       "      <th>pm1</th>\n",
       "      <th>pm2</th>\n",
       "      <th>pm3</th>\n",
       "      <th>am</th>\n",
       "      <th>sm</th>\n",
       "      <th>lum</th>\n",
       "      <th>temp</th>\n",
       "      <th>humd</th>\n",
       "      <th>pres</th>\n",
       "    </tr>\n",
       "  </thead>\n",
       "  <tbody>\n",
       "    <tr>\n",
       "      <th>20161</th>\n",
       "      <td>2023-03-10 08:59:16</td>\n",
       "      <td>0.55</td>\n",
       "      <td>1.11</td>\n",
       "      <td>27.38</td>\n",
       "      <td>3.2</td>\n",
       "      <td>327.0</td>\n",
       "      <td>6352.0</td>\n",
       "      <td>27.04</td>\n",
       "      <td>32.24</td>\n",
       "      <td>93560.72</td>\n",
       "    </tr>\n",
       "    <tr>\n",
       "      <th>20162</th>\n",
       "      <td>2023-03-10 09:27:12</td>\n",
       "      <td>1.11</td>\n",
       "      <td>1.11</td>\n",
       "      <td>27.38</td>\n",
       "      <td>3.2</td>\n",
       "      <td>327.0</td>\n",
       "      <td>7057.0</td>\n",
       "      <td>28.53</td>\n",
       "      <td>28.69</td>\n",
       "      <td>93574.12</td>\n",
       "    </tr>\n",
       "    <tr>\n",
       "      <th>20163</th>\n",
       "      <td>2023-03-10 09:55:12</td>\n",
       "      <td>1.67</td>\n",
       "      <td>1.11</td>\n",
       "      <td>27.38</td>\n",
       "      <td>4.8</td>\n",
       "      <td>327.0</td>\n",
       "      <td>7661.0</td>\n",
       "      <td>30.07</td>\n",
       "      <td>24.39</td>\n",
       "      <td>93571.75</td>\n",
       "    </tr>\n",
       "    <tr>\n",
       "      <th>20164</th>\n",
       "      <td>2023-03-10 10:23:12</td>\n",
       "      <td>0.55</td>\n",
       "      <td>1.67</td>\n",
       "      <td>27.93</td>\n",
       "      <td>4.0</td>\n",
       "      <td>327.0</td>\n",
       "      <td>8386.0</td>\n",
       "      <td>31.55</td>\n",
       "      <td>22.99</td>\n",
       "      <td>93558.36</td>\n",
       "    </tr>\n",
       "    <tr>\n",
       "      <th>20165</th>\n",
       "      <td>2023-03-10 10:51:14</td>\n",
       "      <td>1.11</td>\n",
       "      <td>1.67</td>\n",
       "      <td>27.93</td>\n",
       "      <td>2.4</td>\n",
       "      <td>328.0</td>\n",
       "      <td>8954.0</td>\n",
       "      <td>32.68</td>\n",
       "      <td>20.85</td>\n",
       "      <td>93541.99</td>\n",
       "    </tr>\n",
       "  </tbody>\n",
       "</table>\n",
       "</div>"
      ],
      "text/plain": [
       "                     ttime   pm1   pm2    pm3   am     sm     lum   temp  \\\n",
       "20161  2023-03-10 08:59:16  0.55  1.11  27.38  3.2  327.0  6352.0  27.04   \n",
       "20162  2023-03-10 09:27:12  1.11  1.11  27.38  3.2  327.0  7057.0  28.53   \n",
       "20163  2023-03-10 09:55:12  1.67  1.11  27.38  4.8  327.0  7661.0  30.07   \n",
       "20164  2023-03-10 10:23:12  0.55  1.67  27.93  4.0  327.0  8386.0  31.55   \n",
       "20165  2023-03-10 10:51:14  1.11  1.67  27.93  2.4  328.0  8954.0  32.68   \n",
       "\n",
       "        humd      pres  \n",
       "20161  32.24  93560.72  \n",
       "20162  28.69  93574.12  \n",
       "20163  24.39  93571.75  \n",
       "20164  22.99  93558.36  \n",
       "20165  20.85  93541.99  "
      ]
     },
     "execution_count": 88,
     "metadata": {},
     "output_type": "execute_result"
    }
   ],
   "source": [
    "pred2.tail()"
   ]
  },
  {
   "cell_type": "code",
   "execution_count": null,
   "id": "3a8dbd8c",
   "metadata": {},
   "outputs": [],
   "source": [
    "\n"
   ]
  },
  {
   "cell_type": "code",
   "execution_count": 89,
   "id": "c447e797",
   "metadata": {},
   "outputs": [],
   "source": [
    "pred_df1=pred2[19675:19730]\n",
    "pred_df2=pred2[19730:19784]\n",
    "pred_df3=pred2[19784:19837]\n",
    "pred_df4=pred2[19837:19887]\n",
    "pred_df5=pred2[19887:19939]\n",
    "pred_df6=pred2[19939:19990]\n",
    "pred_df7=pred2[19990:20042]\n",
    "pred_df8=pred2[20042:20093]\n",
    "pred_df9=pred2[20093:20145]\n",
    "pred_df10=pred2[20145:20167]"
   ]
  },
  {
   "cell_type": "code",
   "execution_count": 90,
   "id": "3b550493",
   "metadata": {},
   "outputs": [],
   "source": [
    "from sklearn import linear_model\n",
    "xx1= pred_df1[['pm1', 'pm2','pm3','am','lum','temp','humd','pres']]\n",
    "yy1 = pred_df1['sm']\n",
    "xx2= pred_df2[['pm1', 'pm2','pm3','am','lum','temp','humd','pres']]\n",
    "yy2 = pred_df2['sm']\n",
    "xx3= pred_df3[['pm1', 'pm2','pm3','am','lum','temp','humd','pres']]\n",
    "yy3 = pred_df3['sm']\n",
    "xx4= pred_df4[['pm1', 'pm2','pm3','am','lum','temp','humd','pres']]\n",
    "yy4 = pred_df4['sm']\n",
    "xx5= pred_df5[['pm1', 'pm2','pm3','am','lum','temp','humd','pres']]\n",
    "yy5 = pred_df5['sm']\n",
    "xx6= pred_df6[['pm1', 'pm2','pm3','am','lum','temp','humd','pres']]\n",
    "yy6 = pred_df6['sm']\n",
    "xx7= pred_df7[['pm1', 'pm2','pm3','am','lum','temp','humd','pres']]\n",
    "yy7 = pred_df7['sm']\n",
    "xx8= pred_df8[['pm1', 'pm2','pm3','am','lum','temp','humd','pres']]\n",
    "yy8 = pred_df8['sm']\n",
    "xx9= pred_df9[['pm1', 'pm2','pm3','am','lum','temp','humd','pres']]\n",
    "yy9 = pred_df9['sm']\n",
    "xx10= pred_df10[['pm1', 'pm2','pm3','am','lum','temp','humd','pres']]\n",
    "yy10 = pred_df10['sm']"
   ]
  },
  {
   "cell_type": "code",
   "execution_count": 123,
   "id": "123c9cb3",
   "metadata": {},
   "outputs": [
    {
     "name": "stderr",
     "output_type": "stream",
     "text": [
      "C:\\Users\\Satwik K\\AppData\\Local\\Temp\\ipykernel_17884\\2053298378.py:3: SettingWithCopyWarning: \n",
      "A value is trying to be set on a copy of a slice from a DataFrame.\n",
      "Try using .loc[row_indexer,col_indexer] = value instead\n",
      "\n",
      "See the caveats in the documentation: https://pandas.pydata.org/pandas-docs/stable/user_guide/indexing.html#returning-a-view-versus-a-copy\n",
      "  pred_df[column] = pred_df[column].replace(0, col_mean)\n"
     ]
    }
   ],
   "source": []
  },
  {
   "cell_type": "code",
   "execution_count": 91,
   "id": "e2d9e0fa",
   "metadata": {},
   "outputs": [],
   "source": [
    "X_poly_test1 = poly.transform(xx1)\n",
    "y_test_pred1 = lin_reg.predict(X_poly_test1)\n",
    "\n",
    "X_poly_test2 = poly.transform(xx2)\n",
    "y_test_pred2 = lin_reg.predict(X_poly_test2)\n",
    "\n",
    "X_poly_test3 = poly.transform(xx3)\n",
    "y_test_pred3 = lin_reg.predict(X_poly_test3)\n",
    "\n",
    "X_poly_test4 = poly.transform(xx4)\n",
    "y_test_pred4 = lin_reg.predict(X_poly_test4)\n",
    "\n",
    "X_poly_test5 = poly.transform(xx5)\n",
    "y_test_pred5 = lin_reg.predict(X_poly_test5)\n",
    "\n",
    "X_poly_test6 = poly.transform(xx6)\n",
    "y_test_pred6 = lin_reg.predict(X_poly_test6)\n",
    "\n",
    "X_poly_test7 = poly.transform(xx7)\n",
    "y_test_pred7 = lin_reg.predict(X_poly_test7)\n",
    "\n",
    "X_poly_test8 = poly.transform(xx8)\n",
    "y_test_pred8 = lin_reg.predict(X_poly_test8)\n",
    "\n",
    "X_poly_test9 = poly.transform(xx9)\n",
    "y_test_pred9 = lin_reg.predict(X_poly_test9)\n",
    "\n",
    "X_poly_test10 = poly.transform(xx10)\n",
    "y_test_pred10= lin_reg.predict(X_poly_test10)"
   ]
  },
  {
   "cell_type": "code",
   "execution_count": 95,
   "id": "4a1bc14c",
   "metadata": {},
   "outputs": [
    {
     "name": "stdout",
     "output_type": "stream",
     "text": [
      "330.1636363636364    255.22627547156404\n",
      "330.037037037037    380.42760110329147\n",
      "329.1132075471698    498.5845938372549\n",
      "328.48               681.6100147633628\n",
      "328.34615384615387    345.0359161955734\n",
      "328.19607843137254    294.9167876979884\n",
      "327.96153846153845    347.2068314497682\n",
      "327.01960784313724    188.40384573507689\n",
      "327.0769230769231     229.6662088597838\n",
      "326.5238095238095     330.0853000037106\n"
     ]
    }
   ],
   "source": [
    "print(yy1.mean(),\"  \", y_test_pred1.mean())\n",
    "print(yy2.mean(),\"  \"  ,y_test_pred2.mean())\n",
    "print(yy3.mean(),\"  \" ,y_test_pred3.mean())\n",
    "print(yy4.mean(),\"             \"  ,y_test_pred4.mean())\n",
    "print(yy5.mean(),\"  \"  ,y_test_pred5.mean())\n",
    "print(yy6.mean(),\"  \" ,y_test_pred6.mean())\n",
    "print(yy7.mean(),\"  \"  ,y_test_pred7.mean())\n",
    "print(yy8.mean(),\"  \"  ,y_test_pred8.mean())\n",
    "print(yy9.mean() ,\"   \" ,y_test_pred9.mean())\n",
    "print(yy10.mean(),\"   \" ,y_test_pred10.mean())\n"
   ]
  },
  {
   "cell_type": "code",
   "execution_count": null,
   "id": "96fd30c9",
   "metadata": {},
   "outputs": [],
   "source": []
  }
 ],
 "metadata": {
  "kernelspec": {
   "display_name": "Python 3 (ipykernel)",
   "language": "python",
   "name": "python3"
  },
  "language_info": {
   "codemirror_mode": {
    "name": "ipython",
    "version": 3
   },
   "file_extension": ".py",
   "mimetype": "text/x-python",
   "name": "python",
   "nbconvert_exporter": "python",
   "pygments_lexer": "ipython3",
   "version": "3.10.9"
  }
 },
 "nbformat": 4,
 "nbformat_minor": 5
}
